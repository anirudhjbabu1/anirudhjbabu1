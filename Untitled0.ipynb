{
  "nbformat": 4,
  "nbformat_minor": 0,
  "metadata": {
    "colab": {
      "provenance": [],
      "include_colab_link": true
    },
    "kernelspec": {
      "name": "python3",
      "display_name": "Python 3"
    },
    "language_info": {
      "name": "python"
    },
    "accelerator": "GPU"
  },
  "cells": [
    {
      "cell_type": "markdown",
      "metadata": {
        "id": "view-in-github",
        "colab_type": "text"
      },
      "source": [
        "<a href=\"https://colab.research.google.com/github/anirudhjbabu1/anirudhjbabu1/blob/main/Untitled0.ipynb\" target=\"_parent\"><img src=\"https://colab.research.google.com/assets/colab-badge.svg\" alt=\"Open In Colab\"/></a>"
      ]
    },
    {
      "cell_type": "code",
      "metadata": {
        "id": "HiLcTvkhoNbP"
      },
      "source": [
        "import tensorflow as tf\n",
        "import tensorflow.keras as keras\n",
        "import pandas as pd\n",
        "import numpy as np"
      ],
      "execution_count": null,
      "outputs": []
    },
    {
      "cell_type": "code",
      "metadata": {
        "id": "iO9EuyZfwTDg"
      },
      "source": [
        "imdb_reviews=pd.read_csv(\"/imdb_reviews.csv\")\n",
        "test_reviews=pd.read_csv(\"/test_reviews.csv\")"
      ],
      "execution_count": null,
      "outputs": []
    },
    {
      "cell_type": "code",
      "metadata": {
        "id": "Az2pO-LgwTGg",
        "colab": {
          "base_uri": "https://localhost:8080/",
          "height": 206
        },
        "outputId": "e1965470-7781-4b3d-abab-45d86fd6a499"
      },
      "source": [
        "imdb_reviews.head()"
      ],
      "execution_count": null,
      "outputs": [
        {
          "output_type": "execute_result",
          "data": {
            "text/html": [
              "\n",
              "  <div id=\"df-e139e652-4d69-481d-8a44-90ce547f378b\">\n",
              "    <div class=\"colab-df-container\">\n",
              "      <div>\n",
              "<style scoped>\n",
              "    .dataframe tbody tr th:only-of-type {\n",
              "        vertical-align: middle;\n",
              "    }\n",
              "\n",
              "    .dataframe tbody tr th {\n",
              "        vertical-align: top;\n",
              "    }\n",
              "\n",
              "    .dataframe thead th {\n",
              "        text-align: right;\n",
              "    }\n",
              "</style>\n",
              "<table border=\"1\" class=\"dataframe\">\n",
              "  <thead>\n",
              "    <tr style=\"text-align: right;\">\n",
              "      <th></th>\n",
              "      <th>Reviews</th>\n",
              "      <th>Sentiment</th>\n",
              "    </tr>\n",
              "  </thead>\n",
              "  <tbody>\n",
              "    <tr>\n",
              "      <th>0</th>\n",
              "      <td>&lt;START this film was just brilliant casting lo...</td>\n",
              "      <td>positive</td>\n",
              "    </tr>\n",
              "    <tr>\n",
              "      <th>1</th>\n",
              "      <td>&lt;START big hair big boobs bad music and a gian...</td>\n",
              "      <td>negative</td>\n",
              "    </tr>\n",
              "    <tr>\n",
              "      <th>2</th>\n",
              "      <td>&lt;START this has to be one of the worst films o...</td>\n",
              "      <td>negative</td>\n",
              "    </tr>\n",
              "    <tr>\n",
              "      <th>3</th>\n",
              "      <td>&lt;START the &lt;UNK&gt; &lt;UNK&gt; at storytelling the tra...</td>\n",
              "      <td>positive</td>\n",
              "    </tr>\n",
              "    <tr>\n",
              "      <th>4</th>\n",
              "      <td>&lt;START worst mistake of my life br br i picked...</td>\n",
              "      <td>negative</td>\n",
              "    </tr>\n",
              "  </tbody>\n",
              "</table>\n",
              "</div>\n",
              "      <button class=\"colab-df-convert\" onclick=\"convertToInteractive('df-e139e652-4d69-481d-8a44-90ce547f378b')\"\n",
              "              title=\"Convert this dataframe to an interactive table.\"\n",
              "              style=\"display:none;\">\n",
              "        \n",
              "  <svg xmlns=\"http://www.w3.org/2000/svg\" height=\"24px\"viewBox=\"0 0 24 24\"\n",
              "       width=\"24px\">\n",
              "    <path d=\"M0 0h24v24H0V0z\" fill=\"none\"/>\n",
              "    <path d=\"M18.56 5.44l.94 2.06.94-2.06 2.06-.94-2.06-.94-.94-2.06-.94 2.06-2.06.94zm-11 1L8.5 8.5l.94-2.06 2.06-.94-2.06-.94L8.5 2.5l-.94 2.06-2.06.94zm10 10l.94 2.06.94-2.06 2.06-.94-2.06-.94-.94-2.06-.94 2.06-2.06.94z\"/><path d=\"M17.41 7.96l-1.37-1.37c-.4-.4-.92-.59-1.43-.59-.52 0-1.04.2-1.43.59L10.3 9.45l-7.72 7.72c-.78.78-.78 2.05 0 2.83L4 21.41c.39.39.9.59 1.41.59.51 0 1.02-.2 1.41-.59l7.78-7.78 2.81-2.81c.8-.78.8-2.07 0-2.86zM5.41 20L4 18.59l7.72-7.72 1.47 1.35L5.41 20z\"/>\n",
              "  </svg>\n",
              "      </button>\n",
              "      \n",
              "  <style>\n",
              "    .colab-df-container {\n",
              "      display:flex;\n",
              "      flex-wrap:wrap;\n",
              "      gap: 12px;\n",
              "    }\n",
              "\n",
              "    .colab-df-convert {\n",
              "      background-color: #E8F0FE;\n",
              "      border: none;\n",
              "      border-radius: 50%;\n",
              "      cursor: pointer;\n",
              "      display: none;\n",
              "      fill: #1967D2;\n",
              "      height: 32px;\n",
              "      padding: 0 0 0 0;\n",
              "      width: 32px;\n",
              "    }\n",
              "\n",
              "    .colab-df-convert:hover {\n",
              "      background-color: #E2EBFA;\n",
              "      box-shadow: 0px 1px 2px rgba(60, 64, 67, 0.3), 0px 1px 3px 1px rgba(60, 64, 67, 0.15);\n",
              "      fill: #174EA6;\n",
              "    }\n",
              "\n",
              "    [theme=dark] .colab-df-convert {\n",
              "      background-color: #3B4455;\n",
              "      fill: #D2E3FC;\n",
              "    }\n",
              "\n",
              "    [theme=dark] .colab-df-convert:hover {\n",
              "      background-color: #434B5C;\n",
              "      box-shadow: 0px 1px 3px 1px rgba(0, 0, 0, 0.15);\n",
              "      filter: drop-shadow(0px 1px 2px rgba(0, 0, 0, 0.3));\n",
              "      fill: #FFFFFF;\n",
              "    }\n",
              "  </style>\n",
              "\n",
              "      <script>\n",
              "        const buttonEl =\n",
              "          document.querySelector('#df-e139e652-4d69-481d-8a44-90ce547f378b button.colab-df-convert');\n",
              "        buttonEl.style.display =\n",
              "          google.colab.kernel.accessAllowed ? 'block' : 'none';\n",
              "\n",
              "        async function convertToInteractive(key) {\n",
              "          const element = document.querySelector('#df-e139e652-4d69-481d-8a44-90ce547f378b');\n",
              "          const dataTable =\n",
              "            await google.colab.kernel.invokeFunction('convertToInteractive',\n",
              "                                                     [key], {});\n",
              "          if (!dataTable) return;\n",
              "\n",
              "          const docLinkHtml = 'Like what you see? Visit the ' +\n",
              "            '<a target=\"_blank\" href=https://colab.research.google.com/notebooks/data_table.ipynb>data table notebook</a>'\n",
              "            + ' to learn more about interactive tables.';\n",
              "          element.innerHTML = '';\n",
              "          dataTable['output_type'] = 'display_data';\n",
              "          await google.colab.output.renderOutput(dataTable, element);\n",
              "          const docLink = document.createElement('div');\n",
              "          docLink.innerHTML = docLinkHtml;\n",
              "          element.appendChild(docLink);\n",
              "        }\n",
              "      </script>\n",
              "    </div>\n",
              "  </div>\n",
              "  "
            ],
            "text/plain": [
              "                                             Reviews Sentiment\n",
              "0  <START this film was just brilliant casting lo...  positive\n",
              "1  <START big hair big boobs bad music and a gian...  negative\n",
              "2  <START this has to be one of the worst films o...  negative\n",
              "3  <START the <UNK> <UNK> at storytelling the tra...  positive\n",
              "4  <START worst mistake of my life br br i picked...  negative"
            ]
          },
          "metadata": {},
          "execution_count": 15
        }
      ]
    },
    {
      "cell_type": "code",
      "metadata": {
        "id": "FD89GVg9wTJ0"
      },
      "source": [
        "word_index=pd.read_csv(\"/word_indexes.csv\")"
      ],
      "execution_count": null,
      "outputs": []
    },
    {
      "cell_type": "code",
      "metadata": {
        "colab": {
          "base_uri": "https://localhost:8080/",
          "height": 363
        },
        "id": "6cNcaszczAEa",
        "outputId": "125bafa3-5d98-4a64-ef94-c28342ec5bb1"
      },
      "source": [
        "word_index.head(n=10)"
      ],
      "execution_count": null,
      "outputs": [
        {
          "output_type": "execute_result",
          "data": {
            "text/html": [
              "\n",
              "  <div id=\"df-959b84d3-d938-457b-a934-cccf5eaef83b\">\n",
              "    <div class=\"colab-df-container\">\n",
              "      <div>\n",
              "<style scoped>\n",
              "    .dataframe tbody tr th:only-of-type {\n",
              "        vertical-align: middle;\n",
              "    }\n",
              "\n",
              "    .dataframe tbody tr th {\n",
              "        vertical-align: top;\n",
              "    }\n",
              "\n",
              "    .dataframe thead th {\n",
              "        text-align: right;\n",
              "    }\n",
              "</style>\n",
              "<table border=\"1\" class=\"dataframe\">\n",
              "  <thead>\n",
              "    <tr style=\"text-align: right;\">\n",
              "      <th></th>\n",
              "      <th>Words</th>\n",
              "      <th>Indexes</th>\n",
              "    </tr>\n",
              "  </thead>\n",
              "  <tbody>\n",
              "    <tr>\n",
              "      <th>0</th>\n",
              "      <td>tsukino</td>\n",
              "      <td>52009</td>\n",
              "    </tr>\n",
              "    <tr>\n",
              "      <th>1</th>\n",
              "      <td>nunnery</td>\n",
              "      <td>52010</td>\n",
              "    </tr>\n",
              "    <tr>\n",
              "      <th>2</th>\n",
              "      <td>sonja</td>\n",
              "      <td>16819</td>\n",
              "    </tr>\n",
              "    <tr>\n",
              "      <th>3</th>\n",
              "      <td>vani</td>\n",
              "      <td>63954</td>\n",
              "    </tr>\n",
              "    <tr>\n",
              "      <th>4</th>\n",
              "      <td>woods</td>\n",
              "      <td>1411</td>\n",
              "    </tr>\n",
              "    <tr>\n",
              "      <th>5</th>\n",
              "      <td>spiders</td>\n",
              "      <td>16118</td>\n",
              "    </tr>\n",
              "    <tr>\n",
              "      <th>6</th>\n",
              "      <td>hanging</td>\n",
              "      <td>2348</td>\n",
              "    </tr>\n",
              "    <tr>\n",
              "      <th>7</th>\n",
              "      <td>woody</td>\n",
              "      <td>2292</td>\n",
              "    </tr>\n",
              "    <tr>\n",
              "      <th>8</th>\n",
              "      <td>trawling</td>\n",
              "      <td>52011</td>\n",
              "    </tr>\n",
              "    <tr>\n",
              "      <th>9</th>\n",
              "      <td>hold's</td>\n",
              "      <td>52012</td>\n",
              "    </tr>\n",
              "  </tbody>\n",
              "</table>\n",
              "</div>\n",
              "      <button class=\"colab-df-convert\" onclick=\"convertToInteractive('df-959b84d3-d938-457b-a934-cccf5eaef83b')\"\n",
              "              title=\"Convert this dataframe to an interactive table.\"\n",
              "              style=\"display:none;\">\n",
              "        \n",
              "  <svg xmlns=\"http://www.w3.org/2000/svg\" height=\"24px\"viewBox=\"0 0 24 24\"\n",
              "       width=\"24px\">\n",
              "    <path d=\"M0 0h24v24H0V0z\" fill=\"none\"/>\n",
              "    <path d=\"M18.56 5.44l.94 2.06.94-2.06 2.06-.94-2.06-.94-.94-2.06-.94 2.06-2.06.94zm-11 1L8.5 8.5l.94-2.06 2.06-.94-2.06-.94L8.5 2.5l-.94 2.06-2.06.94zm10 10l.94 2.06.94-2.06 2.06-.94-2.06-.94-.94-2.06-.94 2.06-2.06.94z\"/><path d=\"M17.41 7.96l-1.37-1.37c-.4-.4-.92-.59-1.43-.59-.52 0-1.04.2-1.43.59L10.3 9.45l-7.72 7.72c-.78.78-.78 2.05 0 2.83L4 21.41c.39.39.9.59 1.41.59.51 0 1.02-.2 1.41-.59l7.78-7.78 2.81-2.81c.8-.78.8-2.07 0-2.86zM5.41 20L4 18.59l7.72-7.72 1.47 1.35L5.41 20z\"/>\n",
              "  </svg>\n",
              "      </button>\n",
              "      \n",
              "  <style>\n",
              "    .colab-df-container {\n",
              "      display:flex;\n",
              "      flex-wrap:wrap;\n",
              "      gap: 12px;\n",
              "    }\n",
              "\n",
              "    .colab-df-convert {\n",
              "      background-color: #E8F0FE;\n",
              "      border: none;\n",
              "      border-radius: 50%;\n",
              "      cursor: pointer;\n",
              "      display: none;\n",
              "      fill: #1967D2;\n",
              "      height: 32px;\n",
              "      padding: 0 0 0 0;\n",
              "      width: 32px;\n",
              "    }\n",
              "\n",
              "    .colab-df-convert:hover {\n",
              "      background-color: #E2EBFA;\n",
              "      box-shadow: 0px 1px 2px rgba(60, 64, 67, 0.3), 0px 1px 3px 1px rgba(60, 64, 67, 0.15);\n",
              "      fill: #174EA6;\n",
              "    }\n",
              "\n",
              "    [theme=dark] .colab-df-convert {\n",
              "      background-color: #3B4455;\n",
              "      fill: #D2E3FC;\n",
              "    }\n",
              "\n",
              "    [theme=dark] .colab-df-convert:hover {\n",
              "      background-color: #434B5C;\n",
              "      box-shadow: 0px 1px 3px 1px rgba(0, 0, 0, 0.15);\n",
              "      filter: drop-shadow(0px 1px 2px rgba(0, 0, 0, 0.3));\n",
              "      fill: #FFFFFF;\n",
              "    }\n",
              "  </style>\n",
              "\n",
              "      <script>\n",
              "        const buttonEl =\n",
              "          document.querySelector('#df-959b84d3-d938-457b-a934-cccf5eaef83b button.colab-df-convert');\n",
              "        buttonEl.style.display =\n",
              "          google.colab.kernel.accessAllowed ? 'block' : 'none';\n",
              "\n",
              "        async function convertToInteractive(key) {\n",
              "          const element = document.querySelector('#df-959b84d3-d938-457b-a934-cccf5eaef83b');\n",
              "          const dataTable =\n",
              "            await google.colab.kernel.invokeFunction('convertToInteractive',\n",
              "                                                     [key], {});\n",
              "          if (!dataTable) return;\n",
              "\n",
              "          const docLinkHtml = 'Like what you see? Visit the ' +\n",
              "            '<a target=\"_blank\" href=https://colab.research.google.com/notebooks/data_table.ipynb>data table notebook</a>'\n",
              "            + ' to learn more about interactive tables.';\n",
              "          element.innerHTML = '';\n",
              "          dataTable['output_type'] = 'display_data';\n",
              "          await google.colab.output.renderOutput(dataTable, element);\n",
              "          const docLink = document.createElement('div');\n",
              "          docLink.innerHTML = docLinkHtml;\n",
              "          element.appendChild(docLink);\n",
              "        }\n",
              "      </script>\n",
              "    </div>\n",
              "  </div>\n",
              "  "
            ],
            "text/plain": [
              "      Words  Indexes\n",
              "0   tsukino    52009\n",
              "1   nunnery    52010\n",
              "2     sonja    16819\n",
              "3      vani    63954\n",
              "4     woods     1411\n",
              "5   spiders    16118\n",
              "6   hanging     2348\n",
              "7     woody     2292\n",
              "8  trawling    52011\n",
              "9    hold's    52012"
            ]
          },
          "metadata": {},
          "execution_count": 17
        }
      ]
    },
    {
      "cell_type": "code",
      "metadata": {
        "id": "w5CsgAVqzAIF"
      },
      "source": [
        "word_index=dict(zip(word_index.Words,word_index.Indexes))\n"
      ],
      "execution_count": null,
      "outputs": []
    },
    {
      "cell_type": "code",
      "metadata": {
        "id": "8Ptp5zEczALX"
      },
      "source": [
        "word_index[\"<PAD>\"]=0\n",
        "word_index[\"<START\"]=1\n",
        "word_index[\"<UNK>\"]=2\n",
        "word_index[\"<UNUSED>\"]=3\n"
      ],
      "execution_count": null,
      "outputs": []
    },
    {
      "cell_type": "code",
      "metadata": {
        "id": "OS29MOMA1RB0"
      },
      "source": [
        "\n",
        "def review_encoder(text):\n",
        "  arr=[word_index[word] for word in text]\n",
        "  return arr"
      ],
      "execution_count": null,
      "outputs": []
    },
    {
      "cell_type": "code",
      "metadata": {
        "id": "oVuC79Ch1cg1"
      },
      "source": [
        "train_data,train_labels=imdb_reviews[\"Reviews\"],imdb_reviews[\"Sentiment\"]\n",
        "test_data,test_labels=test_reviews[\"Reviews\"],test_reviews['Sentiment']"
      ],
      "execution_count": null,
      "outputs": []
    },
    {
      "cell_type": "code",
      "metadata": {
        "id": "cDijUulO1cqs"
      },
      "source": [
        "train_data=train_data.apply(lambda review:review.split())\n",
        "test_data=test_data.apply(lambda review:review.split())"
      ],
      "execution_count": null,
      "outputs": []
    },
    {
      "cell_type": "code",
      "metadata": {
        "id": "eFF9VFapUIcb"
      },
      "source": [
        "train_data=train_data.apply(review_encoder)\n",
        "test_data=test_data.apply(review_encoder)"
      ],
      "execution_count": null,
      "outputs": []
    },
    {
      "cell_type": "code",
      "metadata": {
        "id": "MFoqxd0XUgMW"
      },
      "source": [
        "def encode_sentiments(sentiment):\n",
        "  if sentiment=='positive':\n",
        "    return 1 \n",
        "  else:\n",
        "    return 0\n",
        "train_labels=train_labels.apply(encode_sentiments)\n",
        "test_labels=test_labels.apply(encode_sentiments)"
      ],
      "execution_count": null,
      "outputs": []
    },
    {
      "cell_type": "code",
      "metadata": {
        "id": "ogTlQN1YVD1t"
      },
      "source": [
        "train_data=keras.preprocessing.sequence.pad_sequences(train_data,value=word_index[\"<PAD>\"],padding='post',maxlen=500)\n",
        "test_data=keras.preprocessing.sequence.pad_sequences(test_data,value=word_index[\"<PAD>\"],padding='post',maxlen=500)"
      ],
      "execution_count": null,
      "outputs": []
    },
    {
      "cell_type": "code",
      "metadata": {
        "id": "0IaxA3l2hOuE"
      },
      "source": [
        "model=keras.Sequential([keras.layers.Embedding(10000,16,input_length=500),\n",
        "                       keras.layers.GlobalAveragePooling1D(),\n",
        "                       keras.layers.Dense(16,activation='relu'),\n",
        "                       keras.layers.Dense(1,activation='sigmoid')])"
      ],
      "execution_count": null,
      "outputs": []
    },
    {
      "cell_type": "code",
      "metadata": {
        "id": "8k3j0vZkrMGk"
      },
      "source": [
        "model.compile(optimizer='adam',loss='binary_crossentropy',metrics=['accuracy'])"
      ],
      "execution_count": null,
      "outputs": []
    },
    {
      "cell_type": "code",
      "metadata": {
        "colab": {
          "base_uri": "https://localhost:8080/"
        },
        "id": "DlgMrllMrMuk",
        "outputId": "2b9b744c-8231-4210-c83d-60d8931424c8"
      },
      "source": [
        "history=model.fit(train_data,train_labels,epochs=30,batch_size=512,validation_data=(test_data,test_labels))"
      ],
      "execution_count": null,
      "outputs": [
        {
          "output_type": "stream",
          "name": "stdout",
          "text": [
            "Epoch 1/30\n",
            "49/49 [==============================] - 3s 11ms/step - loss: 0.6914 - accuracy: 0.5569 - val_loss: 0.6890 - val_accuracy: 0.5638\n",
            "Epoch 2/30\n",
            "49/49 [==============================] - 0s 7ms/step - loss: 0.6828 - accuracy: 0.6621 - val_loss: 0.6759 - val_accuracy: 0.6467\n",
            "Epoch 3/30\n",
            "49/49 [==============================] - 0s 7ms/step - loss: 0.6599 - accuracy: 0.7525 - val_loss: 0.6458 - val_accuracy: 0.7598\n",
            "Epoch 4/30\n",
            "49/49 [==============================] - 0s 9ms/step - loss: 0.6183 - accuracy: 0.7785 - val_loss: 0.6000 - val_accuracy: 0.7889\n",
            "Epoch 5/30\n",
            "49/49 [==============================] - 0s 8ms/step - loss: 0.5625 - accuracy: 0.8110 - val_loss: 0.5459 - val_accuracy: 0.8112\n",
            "Epoch 6/30\n",
            "49/49 [==============================] - 0s 8ms/step - loss: 0.5021 - accuracy: 0.8358 - val_loss: 0.4927 - val_accuracy: 0.8302\n",
            "Epoch 7/30\n",
            "49/49 [==============================] - 0s 8ms/step - loss: 0.4464 - accuracy: 0.8570 - val_loss: 0.4468 - val_accuracy: 0.8432\n",
            "Epoch 8/30\n",
            "49/49 [==============================] - 0s 7ms/step - loss: 0.3995 - accuracy: 0.8689 - val_loss: 0.4105 - val_accuracy: 0.8517\n",
            "Epoch 9/30\n",
            "49/49 [==============================] - 0s 8ms/step - loss: 0.3621 - accuracy: 0.8792 - val_loss: 0.3824 - val_accuracy: 0.8606\n",
            "Epoch 10/30\n",
            "49/49 [==============================] - 0s 9ms/step - loss: 0.3331 - accuracy: 0.8860 - val_loss: 0.3625 - val_accuracy: 0.8634\n",
            "Epoch 11/30\n",
            "49/49 [==============================] - 0s 7ms/step - loss: 0.3090 - accuracy: 0.8942 - val_loss: 0.3444 - val_accuracy: 0.8704\n",
            "Epoch 12/30\n",
            "49/49 [==============================] - 0s 8ms/step - loss: 0.2897 - accuracy: 0.9006 - val_loss: 0.3315 - val_accuracy: 0.8728\n",
            "Epoch 13/30\n",
            "49/49 [==============================] - 0s 7ms/step - loss: 0.2732 - accuracy: 0.9046 - val_loss: 0.3223 - val_accuracy: 0.8748\n",
            "Epoch 14/30\n",
            "49/49 [==============================] - 0s 8ms/step - loss: 0.2595 - accuracy: 0.9099 - val_loss: 0.3133 - val_accuracy: 0.8781\n",
            "Epoch 15/30\n",
            "49/49 [==============================] - 0s 7ms/step - loss: 0.2475 - accuracy: 0.9119 - val_loss: 0.3067 - val_accuracy: 0.8792\n",
            "Epoch 16/30\n",
            "49/49 [==============================] - 0s 7ms/step - loss: 0.2355 - accuracy: 0.9175 - val_loss: 0.3034 - val_accuracy: 0.8795\n",
            "Epoch 17/30\n",
            "49/49 [==============================] - 0s 7ms/step - loss: 0.2261 - accuracy: 0.9215 - val_loss: 0.2975 - val_accuracy: 0.8827\n",
            "Epoch 18/30\n",
            "49/49 [==============================] - 0s 7ms/step - loss: 0.2171 - accuracy: 0.9255 - val_loss: 0.2944 - val_accuracy: 0.8826\n",
            "Epoch 19/30\n",
            "49/49 [==============================] - 0s 8ms/step - loss: 0.2088 - accuracy: 0.9287 - val_loss: 0.2909 - val_accuracy: 0.8848\n",
            "Epoch 20/30\n",
            "49/49 [==============================] - 0s 7ms/step - loss: 0.2011 - accuracy: 0.9311 - val_loss: 0.2888 - val_accuracy: 0.8856\n",
            "Epoch 21/30\n",
            "49/49 [==============================] - 0s 7ms/step - loss: 0.1938 - accuracy: 0.9334 - val_loss: 0.2877 - val_accuracy: 0.8857\n",
            "Epoch 22/30\n",
            "49/49 [==============================] - 0s 8ms/step - loss: 0.1874 - accuracy: 0.9359 - val_loss: 0.2865 - val_accuracy: 0.8860\n",
            "Epoch 23/30\n",
            "49/49 [==============================] - 0s 8ms/step - loss: 0.1813 - accuracy: 0.9382 - val_loss: 0.2862 - val_accuracy: 0.8867\n",
            "Epoch 24/30\n",
            "49/49 [==============================] - 0s 8ms/step - loss: 0.1761 - accuracy: 0.9404 - val_loss: 0.2907 - val_accuracy: 0.8848\n",
            "Epoch 25/30\n",
            "49/49 [==============================] - 0s 8ms/step - loss: 0.1701 - accuracy: 0.9437 - val_loss: 0.2861 - val_accuracy: 0.8860\n",
            "Epoch 26/30\n",
            "49/49 [==============================] - 0s 7ms/step - loss: 0.1653 - accuracy: 0.9446 - val_loss: 0.2864 - val_accuracy: 0.8860\n",
            "Epoch 27/30\n",
            "49/49 [==============================] - 0s 7ms/step - loss: 0.1602 - accuracy: 0.9467 - val_loss: 0.2879 - val_accuracy: 0.8861\n",
            "Epoch 28/30\n",
            "49/49 [==============================] - 0s 8ms/step - loss: 0.1558 - accuracy: 0.9484 - val_loss: 0.2933 - val_accuracy: 0.8856\n",
            "Epoch 29/30\n",
            "49/49 [==============================] - 0s 7ms/step - loss: 0.1515 - accuracy: 0.9499 - val_loss: 0.2892 - val_accuracy: 0.8857\n",
            "Epoch 30/30\n",
            "49/49 [==============================] - 0s 7ms/step - loss: 0.1469 - accuracy: 0.9522 - val_loss: 0.2906 - val_accuracy: 0.8852\n"
          ]
        }
      ]
    },
    {
      "cell_type": "code",
      "metadata": {
        "colab": {
          "base_uri": "https://localhost:8080/"
        },
        "id": "9xl6fHM-rMyg",
        "outputId": "63a02b49-3ee9-4576-c5dd-7a696bc7efce"
      },
      "source": [
        "loss,accuracy=model.evaluate(test_data,test_labels)"
      ],
      "execution_count": null,
      "outputs": [
        {
          "output_type": "stream",
          "name": "stdout",
          "text": [
            "782/782 [==============================] - 2s 2ms/step - loss: 0.2906 - accuracy: 0.8852\n"
          ]
        }
      ]
    },
    {
      "cell_type": "code",
      "metadata": {
        "colab": {
          "base_uri": "https://localhost:8080/",
          "height": 203
        },
        "id": "IQgbF8fDrM17",
        "outputId": "5d35e528-c58f-49ec-d96d-337272b5df9d"
      },
      "source": [
        "test_reviews.head()"
      ],
      "execution_count": null,
      "outputs": [
        {
          "output_type": "execute_result",
          "data": {
            "text/html": [
              "<div>\n",
              "<style scoped>\n",
              "    .dataframe tbody tr th:only-of-type {\n",
              "        vertical-align: middle;\n",
              "    }\n",
              "\n",
              "    .dataframe tbody tr th {\n",
              "        vertical-align: top;\n",
              "    }\n",
              "\n",
              "    .dataframe thead th {\n",
              "        text-align: right;\n",
              "    }\n",
              "</style>\n",
              "<table border=\"1\" class=\"dataframe\">\n",
              "  <thead>\n",
              "    <tr style=\"text-align: right;\">\n",
              "      <th></th>\n",
              "      <th>Reviews</th>\n",
              "      <th>Sentiment</th>\n",
              "    </tr>\n",
              "  </thead>\n",
              "  <tbody>\n",
              "    <tr>\n",
              "      <th>0</th>\n",
              "      <td>&lt;START please give this one a miss br br &lt;UNK&gt;...</td>\n",
              "      <td>negative</td>\n",
              "    </tr>\n",
              "    <tr>\n",
              "      <th>1</th>\n",
              "      <td>&lt;START this film requires a lot of patience be...</td>\n",
              "      <td>positive</td>\n",
              "    </tr>\n",
              "    <tr>\n",
              "      <th>2</th>\n",
              "      <td>&lt;START many animation buffs consider &lt;UNK&gt; &lt;UN...</td>\n",
              "      <td>positive</td>\n",
              "    </tr>\n",
              "    <tr>\n",
              "      <th>3</th>\n",
              "      <td>&lt;START i generally love this type of movie how...</td>\n",
              "      <td>negative</td>\n",
              "    </tr>\n",
              "    <tr>\n",
              "      <th>4</th>\n",
              "      <td>&lt;START like some other people wrote i'm a die ...</td>\n",
              "      <td>positive</td>\n",
              "    </tr>\n",
              "  </tbody>\n",
              "</table>\n",
              "</div>"
            ],
            "text/plain": [
              "                                             Reviews Sentiment\n",
              "0  <START please give this one a miss br br <UNK>...  negative\n",
              "1  <START this film requires a lot of patience be...  positive\n",
              "2  <START many animation buffs consider <UNK> <UN...  positive\n",
              "3  <START i generally love this type of movie how...  negative\n",
              "4  <START like some other people wrote i'm a die ...  positive"
            ]
          },
          "metadata": {},
          "execution_count": 23
        }
      ]
    },
    {
      "cell_type": "code",
      "metadata": {
        "id": "dexbKxaY2N81"
      },
      "source": [
        "index=np.random.randint(1,1000)"
      ],
      "execution_count": null,
      "outputs": []
    },
    {
      "cell_type": "code",
      "metadata": {
        "colab": {
          "base_uri": "https://localhost:8080/"
        },
        "id": "U_9WAywe2YZz",
        "outputId": "20456cdb-f8df-4f89-f453-30a90e24a231"
      },
      "source": [
        "user_review=test_reviews.loc[index]\n",
        "print(user_review)"
      ],
      "execution_count": null,
      "outputs": [
        {
          "output_type": "stream",
          "name": "stdout",
          "text": [
            "Reviews      <START right so you have a <UNK> tons of water...\n",
            "Sentiment                                             negative\n",
            "Name: 19, dtype: object\n"
          ]
        }
      ]
    },
    {
      "cell_type": "code",
      "metadata": {
        "colab": {
          "base_uri": "https://localhost:8080/"
        },
        "id": "wE62iFR52iKa",
        "outputId": "75edd970-1457-4e2d-da9a-d3e8bdfbe90d"
      },
      "source": [
        "user_review=test_data[index]\n",
        "user_review=np.array([user_review])\n",
        "if (model.predict(user_review)>0.5).astype('int32'):\n",
        "  print(\"positive sentiment\")\n",
        "else:\n",
        "    print(\"negative sentiment\")"
      ],
      "execution_count": null,
      "outputs": [
        {
          "output_type": "stream",
          "name": "stdout",
          "text": [
            "negative sentiment\n"
          ]
        }
      ]
    },
    {
      "cell_type": "code",
      "metadata": {
        "id": "97SEBXrz3LTi"
      },
      "source": [],
      "execution_count": null,
      "outputs": []
    }
  ]
}